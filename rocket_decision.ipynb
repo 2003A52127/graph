{
  "nbformat": 4,
  "nbformat_minor": 0,
  "metadata": {
    "colab": {
      "name": "rocket decision.ipynb",
      "provenance": [],
      "toc_visible": true
    },
    "kernelspec": {
      "name": "python3",
      "display_name": "Python 3"
    },
    "language_info": {
      "name": "python"
    }
  },
  "cells": [
    {
      "cell_type": "code",
      "execution_count": 103,
      "metadata": {
        "id": "h_LQXe6S3c9Y"
      },
      "outputs": [],
      "source": [
        "import pandas as pd\n",
        "import numpy as np\n",
        "import matplotlib.pyplot as plt\n",
        "import math"
      ]
    },
    {
      "cell_type": "code",
      "source": [
        "d=pd.read_excel('/content/drive/MyDrive/decision tree.xlsx')\n",
        "d.head()"
      ],
      "metadata": {
        "colab": {
          "base_uri": "https://localhost:8080/",
          "height": 206
        },
        "id": "NLElpJU03edS",
        "outputId": "b4df4055-b97d-4553-ec60-83a846c60303"
      },
      "execution_count": 104,
      "outputs": [
        {
          "output_type": "execute_result",
          "data": {
            "text/plain": [
              "   FlightNumber  PayloadMass  Orbit  LaunchSite  Flights  GridFins  Reused  \\\n",
              "0             1  6104.959412      0           1        1         0       0   \n",
              "1             2   525.000000      0           1        1         0       0   \n",
              "2             3   677.000000      1           1        1         0       0   \n",
              "3             4   500.000000      2           2        1         0       0   \n",
              "4             5  3170.000000      3           1        1         0       0   \n",
              "\n",
              "   Legs  Block  ReusedCount   Longitude   Latitude  Class  \n",
              "0     0      1            0  -80.577366  28.561857      0  \n",
              "1     0      1            0  -80.577366  28.561857      0  \n",
              "2     0      1            0  -80.577366  28.561857      0  \n",
              "3     0      1            0 -120.610829  34.632093      0  \n",
              "4     0      1            0  -80.577366  28.561857      0  "
            ],
            "text/html": [
              "\n",
              "  <div id=\"df-4d654c1f-1ff9-40a9-b78b-75e12a055c24\">\n",
              "    <div class=\"colab-df-container\">\n",
              "      <div>\n",
              "<style scoped>\n",
              "    .dataframe tbody tr th:only-of-type {\n",
              "        vertical-align: middle;\n",
              "    }\n",
              "\n",
              "    .dataframe tbody tr th {\n",
              "        vertical-align: top;\n",
              "    }\n",
              "\n",
              "    .dataframe thead th {\n",
              "        text-align: right;\n",
              "    }\n",
              "</style>\n",
              "<table border=\"1\" class=\"dataframe\">\n",
              "  <thead>\n",
              "    <tr style=\"text-align: right;\">\n",
              "      <th></th>\n",
              "      <th>FlightNumber</th>\n",
              "      <th>PayloadMass</th>\n",
              "      <th>Orbit</th>\n",
              "      <th>LaunchSite</th>\n",
              "      <th>Flights</th>\n",
              "      <th>GridFins</th>\n",
              "      <th>Reused</th>\n",
              "      <th>Legs</th>\n",
              "      <th>Block</th>\n",
              "      <th>ReusedCount</th>\n",
              "      <th>Longitude</th>\n",
              "      <th>Latitude</th>\n",
              "      <th>Class</th>\n",
              "    </tr>\n",
              "  </thead>\n",
              "  <tbody>\n",
              "    <tr>\n",
              "      <th>0</th>\n",
              "      <td>1</td>\n",
              "      <td>6104.959412</td>\n",
              "      <td>0</td>\n",
              "      <td>1</td>\n",
              "      <td>1</td>\n",
              "      <td>0</td>\n",
              "      <td>0</td>\n",
              "      <td>0</td>\n",
              "      <td>1</td>\n",
              "      <td>0</td>\n",
              "      <td>-80.577366</td>\n",
              "      <td>28.561857</td>\n",
              "      <td>0</td>\n",
              "    </tr>\n",
              "    <tr>\n",
              "      <th>1</th>\n",
              "      <td>2</td>\n",
              "      <td>525.000000</td>\n",
              "      <td>0</td>\n",
              "      <td>1</td>\n",
              "      <td>1</td>\n",
              "      <td>0</td>\n",
              "      <td>0</td>\n",
              "      <td>0</td>\n",
              "      <td>1</td>\n",
              "      <td>0</td>\n",
              "      <td>-80.577366</td>\n",
              "      <td>28.561857</td>\n",
              "      <td>0</td>\n",
              "    </tr>\n",
              "    <tr>\n",
              "      <th>2</th>\n",
              "      <td>3</td>\n",
              "      <td>677.000000</td>\n",
              "      <td>1</td>\n",
              "      <td>1</td>\n",
              "      <td>1</td>\n",
              "      <td>0</td>\n",
              "      <td>0</td>\n",
              "      <td>0</td>\n",
              "      <td>1</td>\n",
              "      <td>0</td>\n",
              "      <td>-80.577366</td>\n",
              "      <td>28.561857</td>\n",
              "      <td>0</td>\n",
              "    </tr>\n",
              "    <tr>\n",
              "      <th>3</th>\n",
              "      <td>4</td>\n",
              "      <td>500.000000</td>\n",
              "      <td>2</td>\n",
              "      <td>2</td>\n",
              "      <td>1</td>\n",
              "      <td>0</td>\n",
              "      <td>0</td>\n",
              "      <td>0</td>\n",
              "      <td>1</td>\n",
              "      <td>0</td>\n",
              "      <td>-120.610829</td>\n",
              "      <td>34.632093</td>\n",
              "      <td>0</td>\n",
              "    </tr>\n",
              "    <tr>\n",
              "      <th>4</th>\n",
              "      <td>5</td>\n",
              "      <td>3170.000000</td>\n",
              "      <td>3</td>\n",
              "      <td>1</td>\n",
              "      <td>1</td>\n",
              "      <td>0</td>\n",
              "      <td>0</td>\n",
              "      <td>0</td>\n",
              "      <td>1</td>\n",
              "      <td>0</td>\n",
              "      <td>-80.577366</td>\n",
              "      <td>28.561857</td>\n",
              "      <td>0</td>\n",
              "    </tr>\n",
              "  </tbody>\n",
              "</table>\n",
              "</div>\n",
              "      <button class=\"colab-df-convert\" onclick=\"convertToInteractive('df-4d654c1f-1ff9-40a9-b78b-75e12a055c24')\"\n",
              "              title=\"Convert this dataframe to an interactive table.\"\n",
              "              style=\"display:none;\">\n",
              "        \n",
              "  <svg xmlns=\"http://www.w3.org/2000/svg\" height=\"24px\"viewBox=\"0 0 24 24\"\n",
              "       width=\"24px\">\n",
              "    <path d=\"M0 0h24v24H0V0z\" fill=\"none\"/>\n",
              "    <path d=\"M18.56 5.44l.94 2.06.94-2.06 2.06-.94-2.06-.94-.94-2.06-.94 2.06-2.06.94zm-11 1L8.5 8.5l.94-2.06 2.06-.94-2.06-.94L8.5 2.5l-.94 2.06-2.06.94zm10 10l.94 2.06.94-2.06 2.06-.94-2.06-.94-.94-2.06-.94 2.06-2.06.94z\"/><path d=\"M17.41 7.96l-1.37-1.37c-.4-.4-.92-.59-1.43-.59-.52 0-1.04.2-1.43.59L10.3 9.45l-7.72 7.72c-.78.78-.78 2.05 0 2.83L4 21.41c.39.39.9.59 1.41.59.51 0 1.02-.2 1.41-.59l7.78-7.78 2.81-2.81c.8-.78.8-2.07 0-2.86zM5.41 20L4 18.59l7.72-7.72 1.47 1.35L5.41 20z\"/>\n",
              "  </svg>\n",
              "      </button>\n",
              "      \n",
              "  <style>\n",
              "    .colab-df-container {\n",
              "      display:flex;\n",
              "      flex-wrap:wrap;\n",
              "      gap: 12px;\n",
              "    }\n",
              "\n",
              "    .colab-df-convert {\n",
              "      background-color: #E8F0FE;\n",
              "      border: none;\n",
              "      border-radius: 50%;\n",
              "      cursor: pointer;\n",
              "      display: none;\n",
              "      fill: #1967D2;\n",
              "      height: 32px;\n",
              "      padding: 0 0 0 0;\n",
              "      width: 32px;\n",
              "    }\n",
              "\n",
              "    .colab-df-convert:hover {\n",
              "      background-color: #E2EBFA;\n",
              "      box-shadow: 0px 1px 2px rgba(60, 64, 67, 0.3), 0px 1px 3px 1px rgba(60, 64, 67, 0.15);\n",
              "      fill: #174EA6;\n",
              "    }\n",
              "\n",
              "    [theme=dark] .colab-df-convert {\n",
              "      background-color: #3B4455;\n",
              "      fill: #D2E3FC;\n",
              "    }\n",
              "\n",
              "    [theme=dark] .colab-df-convert:hover {\n",
              "      background-color: #434B5C;\n",
              "      box-shadow: 0px 1px 3px 1px rgba(0, 0, 0, 0.15);\n",
              "      filter: drop-shadow(0px 1px 2px rgba(0, 0, 0, 0.3));\n",
              "      fill: #FFFFFF;\n",
              "    }\n",
              "  </style>\n",
              "\n",
              "      <script>\n",
              "        const buttonEl =\n",
              "          document.querySelector('#df-4d654c1f-1ff9-40a9-b78b-75e12a055c24 button.colab-df-convert');\n",
              "        buttonEl.style.display =\n",
              "          google.colab.kernel.accessAllowed ? 'block' : 'none';\n",
              "\n",
              "        async function convertToInteractive(key) {\n",
              "          const element = document.querySelector('#df-4d654c1f-1ff9-40a9-b78b-75e12a055c24');\n",
              "          const dataTable =\n",
              "            await google.colab.kernel.invokeFunction('convertToInteractive',\n",
              "                                                     [key], {});\n",
              "          if (!dataTable) return;\n",
              "\n",
              "          const docLinkHtml = 'Like what you see? Visit the ' +\n",
              "            '<a target=\"_blank\" href=https://colab.research.google.com/notebooks/data_table.ipynb>data table notebook</a>'\n",
              "            + ' to learn more about interactive tables.';\n",
              "          element.innerHTML = '';\n",
              "          dataTable['output_type'] = 'display_data';\n",
              "          await google.colab.output.renderOutput(dataTable, element);\n",
              "          const docLink = document.createElement('div');\n",
              "          docLink.innerHTML = docLinkHtml;\n",
              "          element.appendChild(docLink);\n",
              "        }\n",
              "      </script>\n",
              "    </div>\n",
              "  </div>\n",
              "  "
            ]
          },
          "metadata": {},
          "execution_count": 104
        }
      ]
    },
    {
      "cell_type": "code",
      "source": [
        "x=d.iloc[:,1:4]\n",
        "y=d.iloc[:,12:13]\n",
        "y.head()"
      ],
      "metadata": {
        "colab": {
          "base_uri": "https://localhost:8080/",
          "height": 206
        },
        "id": "UJeayPhm30lI",
        "outputId": "1f298ec8-9608-4f17-fbd4-6da88854d785"
      },
      "execution_count": 105,
      "outputs": [
        {
          "output_type": "execute_result",
          "data": {
            "text/plain": [
              "   Class\n",
              "0      0\n",
              "1      0\n",
              "2      0\n",
              "3      0\n",
              "4      0"
            ],
            "text/html": [
              "\n",
              "  <div id=\"df-3adb6ead-3115-437b-acb4-729fdbebcb34\">\n",
              "    <div class=\"colab-df-container\">\n",
              "      <div>\n",
              "<style scoped>\n",
              "    .dataframe tbody tr th:only-of-type {\n",
              "        vertical-align: middle;\n",
              "    }\n",
              "\n",
              "    .dataframe tbody tr th {\n",
              "        vertical-align: top;\n",
              "    }\n",
              "\n",
              "    .dataframe thead th {\n",
              "        text-align: right;\n",
              "    }\n",
              "</style>\n",
              "<table border=\"1\" class=\"dataframe\">\n",
              "  <thead>\n",
              "    <tr style=\"text-align: right;\">\n",
              "      <th></th>\n",
              "      <th>Class</th>\n",
              "    </tr>\n",
              "  </thead>\n",
              "  <tbody>\n",
              "    <tr>\n",
              "      <th>0</th>\n",
              "      <td>0</td>\n",
              "    </tr>\n",
              "    <tr>\n",
              "      <th>1</th>\n",
              "      <td>0</td>\n",
              "    </tr>\n",
              "    <tr>\n",
              "      <th>2</th>\n",
              "      <td>0</td>\n",
              "    </tr>\n",
              "    <tr>\n",
              "      <th>3</th>\n",
              "      <td>0</td>\n",
              "    </tr>\n",
              "    <tr>\n",
              "      <th>4</th>\n",
              "      <td>0</td>\n",
              "    </tr>\n",
              "  </tbody>\n",
              "</table>\n",
              "</div>\n",
              "      <button class=\"colab-df-convert\" onclick=\"convertToInteractive('df-3adb6ead-3115-437b-acb4-729fdbebcb34')\"\n",
              "              title=\"Convert this dataframe to an interactive table.\"\n",
              "              style=\"display:none;\">\n",
              "        \n",
              "  <svg xmlns=\"http://www.w3.org/2000/svg\" height=\"24px\"viewBox=\"0 0 24 24\"\n",
              "       width=\"24px\">\n",
              "    <path d=\"M0 0h24v24H0V0z\" fill=\"none\"/>\n",
              "    <path d=\"M18.56 5.44l.94 2.06.94-2.06 2.06-.94-2.06-.94-.94-2.06-.94 2.06-2.06.94zm-11 1L8.5 8.5l.94-2.06 2.06-.94-2.06-.94L8.5 2.5l-.94 2.06-2.06.94zm10 10l.94 2.06.94-2.06 2.06-.94-2.06-.94-.94-2.06-.94 2.06-2.06.94z\"/><path d=\"M17.41 7.96l-1.37-1.37c-.4-.4-.92-.59-1.43-.59-.52 0-1.04.2-1.43.59L10.3 9.45l-7.72 7.72c-.78.78-.78 2.05 0 2.83L4 21.41c.39.39.9.59 1.41.59.51 0 1.02-.2 1.41-.59l7.78-7.78 2.81-2.81c.8-.78.8-2.07 0-2.86zM5.41 20L4 18.59l7.72-7.72 1.47 1.35L5.41 20z\"/>\n",
              "  </svg>\n",
              "      </button>\n",
              "      \n",
              "  <style>\n",
              "    .colab-df-container {\n",
              "      display:flex;\n",
              "      flex-wrap:wrap;\n",
              "      gap: 12px;\n",
              "    }\n",
              "\n",
              "    .colab-df-convert {\n",
              "      background-color: #E8F0FE;\n",
              "      border: none;\n",
              "      border-radius: 50%;\n",
              "      cursor: pointer;\n",
              "      display: none;\n",
              "      fill: #1967D2;\n",
              "      height: 32px;\n",
              "      padding: 0 0 0 0;\n",
              "      width: 32px;\n",
              "    }\n",
              "\n",
              "    .colab-df-convert:hover {\n",
              "      background-color: #E2EBFA;\n",
              "      box-shadow: 0px 1px 2px rgba(60, 64, 67, 0.3), 0px 1px 3px 1px rgba(60, 64, 67, 0.15);\n",
              "      fill: #174EA6;\n",
              "    }\n",
              "\n",
              "    [theme=dark] .colab-df-convert {\n",
              "      background-color: #3B4455;\n",
              "      fill: #D2E3FC;\n",
              "    }\n",
              "\n",
              "    [theme=dark] .colab-df-convert:hover {\n",
              "      background-color: #434B5C;\n",
              "      box-shadow: 0px 1px 3px 1px rgba(0, 0, 0, 0.15);\n",
              "      filter: drop-shadow(0px 1px 2px rgba(0, 0, 0, 0.3));\n",
              "      fill: #FFFFFF;\n",
              "    }\n",
              "  </style>\n",
              "\n",
              "      <script>\n",
              "        const buttonEl =\n",
              "          document.querySelector('#df-3adb6ead-3115-437b-acb4-729fdbebcb34 button.colab-df-convert');\n",
              "        buttonEl.style.display =\n",
              "          google.colab.kernel.accessAllowed ? 'block' : 'none';\n",
              "\n",
              "        async function convertToInteractive(key) {\n",
              "          const element = document.querySelector('#df-3adb6ead-3115-437b-acb4-729fdbebcb34');\n",
              "          const dataTable =\n",
              "            await google.colab.kernel.invokeFunction('convertToInteractive',\n",
              "                                                     [key], {});\n",
              "          if (!dataTable) return;\n",
              "\n",
              "          const docLinkHtml = 'Like what you see? Visit the ' +\n",
              "            '<a target=\"_blank\" href=https://colab.research.google.com/notebooks/data_table.ipynb>data table notebook</a>'\n",
              "            + ' to learn more about interactive tables.';\n",
              "          element.innerHTML = '';\n",
              "          dataTable['output_type'] = 'display_data';\n",
              "          await google.colab.output.renderOutput(dataTable, element);\n",
              "          const docLink = document.createElement('div');\n",
              "          docLink.innerHTML = docLinkHtml;\n",
              "          element.appendChild(docLink);\n",
              "        }\n",
              "      </script>\n",
              "    </div>\n",
              "  </div>\n",
              "  "
            ]
          },
          "metadata": {},
          "execution_count": 105
        }
      ]
    },
    {
      "cell_type": "code",
      "source": [
        "from sklearn.model_selection import train_test_split\n",
        "x_train,x_test,y_train,y_test=train_test_split(x,y,test_size=0.2,random_state=15)"
      ],
      "metadata": {
        "id": "WBzPEvPJ4Ft8"
      },
      "execution_count": 106,
      "outputs": []
    },
    {
      "cell_type": "code",
      "source": [
        "print(x_train)"
      ],
      "metadata": {
        "colab": {
          "base_uri": "https://localhost:8080/"
        },
        "id": "H8dvrjPE4Hsw",
        "outputId": "a9ddaffb-6ddc-400c-bae1-8ed765fdf986"
      },
      "execution_count": 107,
      "outputs": [
        {
          "output_type": "stream",
          "name": "stdout",
          "text": [
            "     PayloadMass  Orbit  LaunchSite\n",
            "86  15400.000000      8           3\n",
            "13   1898.000000      1           1\n",
            "16   2034.000000      0           1\n",
            "18   5271.000000      3           1\n",
            "30   6070.000000      3           3\n",
            "..           ...    ...         ...\n",
            "28   5300.000000      3           3\n",
            "0    6104.959412      0           1\n",
            "5    3325.000000      3           1\n",
            "12    570.000000      4           1\n",
            "72   6104.959412      9           3\n",
            "\n",
            "[72 rows x 3 columns]\n"
          ]
        }
      ]
    },
    {
      "cell_type": "code",
      "source": [
        "print(x_test)"
      ],
      "metadata": {
        "colab": {
          "base_uri": "https://localhost:8080/"
        },
        "id": "1n0v6jVm4qdP",
        "outputId": "6489c960-f4e4-4c12-d216-94a10c5f346f"
      },
      "execution_count": 108,
      "outputs": [
        {
          "output_type": "stream",
          "name": "stdout",
          "text": [
            "     PayloadMass  Orbit  LaunchSite\n",
            "76  15600.000000      8           3\n",
            "46   9600.000000      2           2\n",
            "59   2573.000000      1           1\n",
            "57   3000.000000      3           3\n",
            "48    350.000000      6           1\n",
            "69   5000.000000      1           1\n",
            "8    4535.000000      3           1\n",
            "14   4707.000000      3           1\n",
            "9    4428.000000      3           1\n",
            "73  15600.000000      8           1\n",
            "25   9600.000000      2           2\n",
            "87  15400.000000      8           3\n",
            "38   9600.000000      2           2\n",
            "3     500.000000      2           2\n",
            "20   4696.000000      3           1\n",
            "45   6092.000000      3           1\n",
            "43   6104.959412      0           1\n",
            "52   7076.000000      3           1\n"
          ]
        }
      ]
    },
    {
      "cell_type": "code",
      "source": [
        "print(y_train)\n",
        "print(y_train.shape)"
      ],
      "metadata": {
        "colab": {
          "base_uri": "https://localhost:8080/"
        },
        "id": "NxRtzL-g4x8U",
        "outputId": "ec864092-b91d-46c7-fbe6-8c5a61848eeb"
      },
      "execution_count": 109,
      "outputs": [
        {
          "output_type": "stream",
          "name": "stdout",
          "text": [
            "    Class\n",
            "86      1\n",
            "13      0\n",
            "16      1\n",
            "18      0\n",
            "30      0\n",
            "..    ...\n",
            "28      1\n",
            "0       0\n",
            "5       0\n",
            "12      1\n",
            "72      0\n",
            "\n",
            "[72 rows x 1 columns]\n",
            "(72, 1)\n"
          ]
        }
      ]
    },
    {
      "cell_type": "code",
      "source": [
        "print(y_test)"
      ],
      "metadata": {
        "colab": {
          "base_uri": "https://localhost:8080/"
        },
        "id": "VE6zmtjE42eq",
        "outputId": "29279566-7e26-4c0c-ea65-eb3cdb3ea551"
      },
      "execution_count": 110,
      "outputs": [
        {
          "output_type": "stream",
          "name": "stdout",
          "text": [
            "    Class\n",
            "76      0\n",
            "46      0\n",
            "59      0\n",
            "57      1\n",
            "48      1\n",
            "69      1\n",
            "8       0\n",
            "14      0\n",
            "9       0\n",
            "73      1\n",
            "25      1\n",
            "87      1\n",
            "38      1\n",
            "3       0\n",
            "20      1\n",
            "45      0\n",
            "43      1\n",
            "52      1\n"
          ]
        }
      ]
    },
    {
      "cell_type": "code",
      "source": [
        "from sklearn.tree import DecisionTreeRegressor\n",
        "from sklearn.metrics import accuracy_score"
      ],
      "metadata": {
        "id": "j0OTNAoB46Gj"
      },
      "execution_count": 111,
      "outputs": []
    },
    {
      "cell_type": "code",
      "source": [
        "dt=DecisionTreeRegressor()\n",
        "cc=dt.fit(x_train,y_train)\n",
        "from sklearn.metrics import mean_squared_error as MSE\n",
        "yp=dt.predict(x_test)\n",
        "mse_dt=MSE(y_test,yp)\n",
        "rms=mse_dt**(1/2)\n",
        "print(rms)"
      ],
      "metadata": {
        "colab": {
          "base_uri": "https://localhost:8080/"
        },
        "id": "_aB5-hCx46J6",
        "outputId": "5b2cd875-5b1f-46a0-d1fb-7b0fad1d4bfe"
      },
      "execution_count": 112,
      "outputs": [
        {
          "output_type": "stream",
          "name": "stdout",
          "text": [
            "0.7817359599705717\n"
          ]
        }
      ]
    },
    {
      "cell_type": "code",
      "source": [
        "  from sklearn import tree\n",
        "  tree.plot_tree(cc)"
      ],
      "metadata": {
        "colab": {
          "base_uri": "https://localhost:8080/",
          "height": 1000
        },
        "id": "YTgBw3rjUpG1",
        "outputId": "83d8bfca-e466-4b59-f1f9-1dda8f84e5ec"
      },
      "execution_count": 113,
      "outputs": [
        {
          "output_type": "execute_result",
          "data": {
            "text/plain": [
              "[Text(0.734375, 0.9545454545454546, 'X[0] <= 6780.5\\nsquared_error = 0.212\\nsamples = 72\\nvalue = 0.694'),\n",
              " Text(0.5758928571428571, 0.8636363636363636, 'X[0] <= 5341.925\\nsquared_error = 0.239\\nsamples = 53\\nvalue = 0.604'),\n",
              " Text(0.4017857142857143, 0.7727272727272727, 'X[2] <= 1.5\\nsquared_error = 0.214\\nsamples = 42\\nvalue = 0.69'),\n",
              " Text(0.26785714285714285, 0.6818181818181818, 'X[0] <= 2345.5\\nsquared_error = 0.245\\nsamples = 28\\nvalue = 0.571'),\n",
              " Text(0.17857142857142858, 0.5909090909090909, 'X[0] <= 547.5\\nsquared_error = 0.213\\nsamples = 13\\nvalue = 0.692'),\n",
              " Text(0.14285714285714285, 0.5, 'squared_error = 0.0\\nsamples = 1\\nvalue = 0.0'),\n",
              " Text(0.21428571428571427, 0.5, 'X[0] <= 2221.85\\nsquared_error = 0.188\\nsamples = 12\\nvalue = 0.75'),\n",
              " Text(0.17857142857142858, 0.4090909090909091, 'X[0] <= 2210.5\\nsquared_error = 0.222\\nsamples = 9\\nvalue = 0.667'),\n",
              " Text(0.14285714285714285, 0.3181818181818182, 'X[0] <= 1937.5\\nsquared_error = 0.188\\nsamples = 8\\nvalue = 0.75'),\n",
              " Text(0.10714285714285714, 0.22727272727272727, 'X[1] <= 2.5\\nsquared_error = 0.24\\nsamples = 5\\nvalue = 0.6'),\n",
              " Text(0.07142857142857142, 0.13636363636363635, 'X[1] <= 0.5\\nsquared_error = 0.222\\nsamples = 3\\nvalue = 0.333'),\n",
              " Text(0.03571428571428571, 0.045454545454545456, 'squared_error = 0.0\\nsamples = 1\\nvalue = 1.0'),\n",
              " Text(0.10714285714285714, 0.045454545454545456, 'squared_error = 0.0\\nsamples = 2\\nvalue = 0.0'),\n",
              " Text(0.14285714285714285, 0.13636363636363635, 'squared_error = 0.0\\nsamples = 2\\nvalue = 1.0'),\n",
              " Text(0.17857142857142858, 0.22727272727272727, 'squared_error = 0.0\\nsamples = 3\\nvalue = 1.0'),\n",
              " Text(0.21428571428571427, 0.3181818181818182, 'squared_error = 0.0\\nsamples = 1\\nvalue = 0.0'),\n",
              " Text(0.25, 0.4090909090909091, 'squared_error = 0.0\\nsamples = 3\\nvalue = 1.0'),\n",
              " Text(0.35714285714285715, 0.5909090909090909, 'X[0] <= 2479.5\\nsquared_error = 0.249\\nsamples = 15\\nvalue = 0.467'),\n",
              " Text(0.32142857142857145, 0.5, 'squared_error = 0.0\\nsamples = 3\\nvalue = 0.0'),\n",
              " Text(0.39285714285714285, 0.5, 'X[0] <= 4935.5\\nsquared_error = 0.243\\nsamples = 12\\nvalue = 0.583'),\n",
              " Text(0.35714285714285715, 0.4090909090909091, 'X[0] <= 3503.0\\nsquared_error = 0.231\\nsamples = 11\\nvalue = 0.636'),\n",
              " Text(0.2857142857142857, 0.3181818181818182, 'X[0] <= 3153.0\\nsquared_error = 0.25\\nsamples = 6\\nvalue = 0.5'),\n",
              " Text(0.25, 0.22727272727272727, 'X[0] <= 2930.0\\nsquared_error = 0.188\\nsamples = 4\\nvalue = 0.75'),\n",
              " Text(0.21428571428571427, 0.13636363636363635, 'X[0] <= 2621.0\\nsquared_error = 0.25\\nsamples = 2\\nvalue = 0.5'),\n",
              " Text(0.17857142857142858, 0.045454545454545456, 'squared_error = 0.0\\nsamples = 1\\nvalue = 1.0'),\n",
              " Text(0.25, 0.045454545454545456, 'squared_error = 0.0\\nsamples = 1\\nvalue = 0.0'),\n",
              " Text(0.2857142857142857, 0.13636363636363635, 'squared_error = 0.0\\nsamples = 2\\nvalue = 1.0'),\n",
              " Text(0.32142857142857145, 0.22727272727272727, 'squared_error = 0.0\\nsamples = 2\\nvalue = 0.0'),\n",
              " Text(0.42857142857142855, 0.3181818181818182, 'X[0] <= 4315.0\\nsquared_error = 0.16\\nsamples = 5\\nvalue = 0.8'),\n",
              " Text(0.39285714285714285, 0.22727272727272727, 'squared_error = 0.0\\nsamples = 3\\nvalue = 1.0'),\n",
              " Text(0.4642857142857143, 0.22727272727272727, 'X[1] <= 5.0\\nsquared_error = 0.25\\nsamples = 2\\nvalue = 0.5'),\n",
              " Text(0.42857142857142855, 0.13636363636363635, 'squared_error = 0.0\\nsamples = 1\\nvalue = 1.0'),\n",
              " Text(0.5, 0.13636363636363635, 'squared_error = 0.0\\nsamples = 1\\nvalue = 0.0'),\n",
              " Text(0.42857142857142855, 0.4090909090909091, 'squared_error = 0.0\\nsamples = 1\\nvalue = 0.0'),\n",
              " Text(0.5357142857142857, 0.6818181818181818, 'X[0] <= 989.0\\nsquared_error = 0.066\\nsamples = 14\\nvalue = 0.929'),\n",
              " Text(0.5, 0.5909090909090909, 'X[0] <= 514.0\\nsquared_error = 0.25\\nsamples = 2\\nvalue = 0.5'),\n",
              " Text(0.4642857142857143, 0.5, 'squared_error = 0.0\\nsamples = 1\\nvalue = 1.0'),\n",
              " Text(0.5357142857142857, 0.5, 'squared_error = 0.0\\nsamples = 1\\nvalue = 0.0'),\n",
              " Text(0.5714285714285714, 0.5909090909090909, 'squared_error = 0.0\\nsamples = 12\\nvalue = 1.0'),\n",
              " Text(0.75, 0.7727272727272727, 'X[1] <= 9.5\\nsquared_error = 0.198\\nsamples = 11\\nvalue = 0.273'),\n",
              " Text(0.7142857142857143, 0.6818181818181818, 'X[1] <= 1.5\\nsquared_error = 0.16\\nsamples = 10\\nvalue = 0.2'),\n",
              " Text(0.6428571428571429, 0.5909090909090909, 'X[2] <= 2.0\\nsquared_error = 0.25\\nsamples = 2\\nvalue = 0.5'),\n",
              " Text(0.6071428571428571, 0.5, 'squared_error = 0.0\\nsamples = 1\\nvalue = 0.0'),\n",
              " Text(0.6785714285714286, 0.5, 'squared_error = 0.0\\nsamples = 1\\nvalue = 1.0'),\n",
              " Text(0.7857142857142857, 0.5909090909090909, 'X[2] <= 2.0\\nsquared_error = 0.109\\nsamples = 8\\nvalue = 0.125'),\n",
              " Text(0.75, 0.5, 'X[0] <= 5650.0\\nsquared_error = 0.188\\nsamples = 4\\nvalue = 0.25'),\n",
              " Text(0.7142857142857143, 0.4090909090909091, 'squared_error = 0.0\\nsamples = 2\\nvalue = 0.0'),\n",
              " Text(0.7857142857142857, 0.4090909090909091, 'X[0] <= 6150.0\\nsquared_error = 0.25\\nsamples = 2\\nvalue = 0.5'),\n",
              " Text(0.75, 0.3181818181818182, 'squared_error = 0.0\\nsamples = 1\\nvalue = 1.0'),\n",
              " Text(0.8214285714285714, 0.3181818181818182, 'squared_error = 0.0\\nsamples = 1\\nvalue = 0.0'),\n",
              " Text(0.8214285714285714, 0.5, 'squared_error = 0.0\\nsamples = 4\\nvalue = 0.0'),\n",
              " Text(0.7857142857142857, 0.6818181818181818, 'squared_error = 0.0\\nsamples = 1\\nvalue = 1.0'),\n",
              " Text(0.8928571428571429, 0.8636363636363636, 'X[0] <= 14510.0\\nsquared_error = 0.05\\nsamples = 19\\nvalue = 0.947'),\n",
              " Text(0.8571428571428571, 0.7727272727272727, 'squared_error = 0.0\\nsamples = 9\\nvalue = 1.0'),\n",
              " Text(0.9285714285714286, 0.7727272727272727, 'X[2] <= 2.0\\nsquared_error = 0.09\\nsamples = 10\\nvalue = 0.9'),\n",
              " Text(0.8928571428571429, 0.6818181818181818, 'X[0] <= 15500.0\\nsquared_error = 0.122\\nsamples = 7\\nvalue = 0.857'),\n",
              " Text(0.8571428571428571, 0.5909090909090909, 'squared_error = 0.139\\nsamples = 6\\nvalue = 0.833'),\n",
              " Text(0.9285714285714286, 0.5909090909090909, 'squared_error = 0.0\\nsamples = 1\\nvalue = 1.0'),\n",
              " Text(0.9642857142857143, 0.6818181818181818, 'squared_error = 0.0\\nsamples = 3\\nvalue = 1.0')]"
            ]
          },
          "metadata": {},
          "execution_count": 113
        },
        {
          "output_type": "display_data",
          "data": {
            "text/plain": [
              "<Figure size 432x288 with 1 Axes>"
            ],
            "image/png": "[encoded data removed]"
          },
          "metadata": {
            "needs_background": "light"
          }
        }
      ]
    },
    {
      "cell_type": "code",
      "source": [
        "from sklearn.svm import SVR\n"
      ],
      "metadata": {
        "id": "d5hN3i5x5dMy"
      },
      "execution_count": 89,
      "outputs": []
    },
    {
      "cell_type": "code",
      "source": [
        "svm_regression=SVR()\n",
        "svm_regression.fit(x_train,y_train)"
      ],
      "metadata": {
        "colab": {
          "base_uri": "https://localhost:8080/"
        },
        "id": "br0coaM5FTRm",
        "outputId": "7a6d58b5-4da3-4af9-8267-3dc7ef14542c"
      },
      "execution_count": 114,
      "outputs": [
        {
          "output_type": "stream",
          "name": "stderr",
          "text": [
            "/usr/local/lib/python3.7/dist-packages/sklearn/utils/validation.py:993: DataConversionWarning: A column-vector y was passed when a 1d array was expected. Please change the shape of y to (n_samples, ), for example using ravel().\n",
            "  y = column_or_1d(y, warn=True)\n"
          ]
        },
        {
          "output_type": "execute_result",
          "data": {
            "text/plain": [
              "SVR()"
            ]
          },
          "metadata": {},
          "execution_count": 114
        }
      ]
    },
    {
      "cell_type": "code",
      "source": [
        "yfit=svm_regression.predict(x)\n"
      ],
      "metadata": {
        "id": "KykAUZlUZmT6"
      },
      "execution_count": 115,
      "outputs": []
    },
    {
      "cell_type": "code",
      "source": [
        "score=svm_regression.score(x,y)\n",
        "print(MSE(y,yfit))"
      ],
      "metadata": {
        "colab": {
          "base_uri": "https://localhost:8080/"
        },
        "id": "imSCce_qZ8ub",
        "outputId": "3a38a4dd-eb0e-4bfa-ffeb-52ef86a7572e"
      },
      "execution_count": 116,
      "outputs": [
        {
          "output_type": "stream",
          "name": "stdout",
          "text": [
            "0.27589056580525995\n"
          ]
        }
      ]
    }
  ]
}