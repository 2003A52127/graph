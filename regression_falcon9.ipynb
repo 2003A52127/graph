{
  "nbformat": 4,
  "nbformat_minor": 0,
  "metadata": {
    "colab": {
      "name": "regression falcon9.ipynb",
      "provenance": [],
      "toc_visible": true
    },
    "kernelspec": {
      "name": "python3",
      "display_name": "Python 3"
    },
    "language_info": {
      "name": "python"
    }
  },
  "cells": [
    {
      "cell_type": "markdown",
      "source": [
        "This analysis helps in predicting the accurate regression model for rocket launch"
      ],
      "metadata": {
        "id": "XLWsQS7pTivy"
      }
    },
    {
      "cell_type": "code",
      "execution_count": 1,
      "metadata": {
        "id": "h_LQXe6S3c9Y"
      },
      "outputs": [],
      "source": [
        "import pandas as pd\n",
        "import numpy as np\n",
        "import matplotlib.pyplot as plt"
      ]
    },
    {
      "cell_type": "code",
      "source": [
        "d=pd.read_excel('/content/drive/MyDrive/decision tree.xlsx')\n",
        "d.head()"
      ],
      "metadata": {
        "colab": {
          "base_uri": "https://localhost:8080/",
          "height": 206
        },
        "id": "NLElpJU03edS",
        "outputId": "09d09770-abbf-4b8d-fcd5-fe5542b55f64"
      },
      "execution_count": 2,
      "outputs": [
        {
          "output_type": "execute_result",
          "data": {
            "text/plain": [
              "   FlightNumber  PayloadMass  Orbit  LaunchSite  Flights  GridFins  Reused  \\\n",
              "0             1  6104.959412      0           1        1         0       0   \n",
              "1             2   525.000000      0           1        1         0       0   \n",
              "2             3   677.000000      1           1        1         0       0   \n",
              "3             4   500.000000      2           2        1         0       0   \n",
              "4             5  3170.000000      3           1        1         0       0   \n",
              "\n",
              "   Legs  Block  ReusedCount   Longitude   Latitude  Class  \n",
              "0     0      1            0  -80.577366  28.561857      0  \n",
              "1     0      1            0  -80.577366  28.561857      0  \n",
              "2     0      1            0  -80.577366  28.561857      0  \n",
              "3     0      1            0 -120.610829  34.632093      0  \n",
              "4     0      1            0  -80.577366  28.561857      0  "
            ],
            "text/html": [
              "\n",
              "  <div id=\"df-231ef936-e7d8-493a-8baf-4a0ebfb2dc0f\">\n",
              "    <div class=\"colab-df-container\">\n",
              "      <div>\n",
              "<style scoped>\n",
              "    .dataframe tbody tr th:only-of-type {\n",
              "        vertical-align: middle;\n",
              "    }\n",
              "\n",
              "    .dataframe tbody tr th {\n",
              "        vertical-align: top;\n",
              "    }\n",
              "\n",
              "    .dataframe thead th {\n",
              "        text-align: right;\n",
              "    }\n",
              "</style>\n",
              "<table border=\"1\" class=\"dataframe\">\n",
              "  <thead>\n",
              "    <tr style=\"text-align: right;\">\n",
              "      <th></th>\n",
              "      <th>FlightNumber</th>\n",
              "      <th>PayloadMass</th>\n",
              "      <th>Orbit</th>\n",
              "      <th>LaunchSite</th>\n",
              "      <th>Flights</th>\n",
              "      <th>GridFins</th>\n",
              "      <th>Reused</th>\n",
              "      <th>Legs</th>\n",
              "      <th>Block</th>\n",
              "      <th>ReusedCount</th>\n",
              "      <th>Longitude</th>\n",
              "      <th>Latitude</th>\n",
              "      <th>Class</th>\n",
              "    </tr>\n",
              "  </thead>\n",
              "  <tbody>\n",
              "    <tr>\n",
              "      <th>0</th>\n",
              "      <td>1</td>\n",
              "      <td>6104.959412</td>\n",
              "      <td>0</td>\n",
              "      <td>1</td>\n",
              "      <td>1</td>\n",
              "      <td>0</td>\n",
              "      <td>0</td>\n",
              "      <td>0</td>\n",
              "      <td>1</td>\n",
              "      <td>0</td>\n",
              "      <td>-80.577366</td>\n",
              "      <td>28.561857</td>\n",
              "      <td>0</td>\n",
              "    </tr>\n",
              "    <tr>\n",
              "      <th>1</th>\n",
              "      <td>2</td>\n",
              "      <td>525.000000</td>\n",
              "      <td>0</td>\n",
              "      <td>1</td>\n",
              "      <td>1</td>\n",
              "      <td>0</td>\n",
              "      <td>0</td>\n",
              "      <td>0</td>\n",
              "      <td>1</td>\n",
              "      <td>0</td>\n",
              "      <td>-80.577366</td>\n",
              "      <td>28.561857</td>\n",
              "      <td>0</td>\n",
              "    </tr>\n",
              "    <tr>\n",
              "      <th>2</th>\n",
              "      <td>3</td>\n",
              "      <td>677.000000</td>\n",
              "      <td>1</td>\n",
              "      <td>1</td>\n",
              "      <td>1</td>\n",
              "      <td>0</td>\n",
              "      <td>0</td>\n",
              "      <td>0</td>\n",
              "      <td>1</td>\n",
              "      <td>0</td>\n",
              "      <td>-80.577366</td>\n",
              "      <td>28.561857</td>\n",
              "      <td>0</td>\n",
              "    </tr>\n",
              "    <tr>\n",
              "      <th>3</th>\n",
              "      <td>4</td>\n",
              "      <td>500.000000</td>\n",
              "      <td>2</td>\n",
              "      <td>2</td>\n",
              "      <td>1</td>\n",
              "      <td>0</td>\n",
              "      <td>0</td>\n",
              "      <td>0</td>\n",
              "      <td>1</td>\n",
              "      <td>0</td>\n",
              "      <td>-120.610829</td>\n",
              "      <td>34.632093</td>\n",
              "      <td>0</td>\n",
              "    </tr>\n",
              "    <tr>\n",
              "      <th>4</th>\n",
              "      <td>5</td>\n",
              "      <td>3170.000000</td>\n",
              "      <td>3</td>\n",
              "      <td>1</td>\n",
              "      <td>1</td>\n",
              "      <td>0</td>\n",
              "      <td>0</td>\n",
              "      <td>0</td>\n",
              "      <td>1</td>\n",
              "      <td>0</td>\n",
              "      <td>-80.577366</td>\n",
              "      <td>28.561857</td>\n",
              "      <td>0</td>\n",
              "    </tr>\n",
              "  </tbody>\n",
              "</table>\n",
              "</div>\n",
              "      <button class=\"colab-df-convert\" onclick=\"convertToInteractive('df-231ef936-e7d8-493a-8baf-4a0ebfb2dc0f')\"\n",
              "              title=\"Convert this dataframe to an interactive table.\"\n",
              "              style=\"display:none;\">\n",
              "        \n",
              "  <svg xmlns=\"http://www.w3.org/2000/svg\" height=\"24px\"viewBox=\"0 0 24 24\"\n",
              "       width=\"24px\">\n",
              "    <path d=\"M0 0h24v24H0V0z\" fill=\"none\"/>\n",
              "    <path d=\"M18.56 5.44l.94 2.06.94-2.06 2.06-.94-2.06-.94-.94-2.06-.94 2.06-2.06.94zm-11 1L8.5 8.5l.94-2.06 2.06-.94-2.06-.94L8.5 2.5l-.94 2.06-2.06.94zm10 10l.94 2.06.94-2.06 2.06-.94-2.06-.94-.94-2.06-.94 2.06-2.06.94z\"/><path d=\"M17.41 7.96l-1.37-1.37c-.4-.4-.92-.59-1.43-.59-.52 0-1.04.2-1.43.59L10.3 9.45l-7.72 7.72c-.78.78-.78 2.05 0 2.83L4 21.41c.39.39.9.59 1.41.59.51 0 1.02-.2 1.41-.59l7.78-7.78 2.81-2.81c.8-.78.8-2.07 0-2.86zM5.41 20L4 18.59l7.72-7.72 1.47 1.35L5.41 20z\"/>\n",
              "  </svg>\n",
              "      </button>\n",
              "      \n",
              "  <style>\n",
              "    .colab-df-container {\n",
              "      display:flex;\n",
              "      flex-wrap:wrap;\n",
              "      gap: 12px;\n",
              "    }\n",
              "\n",
              "    .colab-df-convert {\n",
              "      background-color: #E8F0FE;\n",
              "      border: none;\n",
              "      border-radius: 50%;\n",
              "      cursor: pointer;\n",
              "      display: none;\n",
              "      fill: #1967D2;\n",
              "      height: 32px;\n",
              "      padding: 0 0 0 0;\n",
              "      width: 32px;\n",
              "    }\n",
              "\n",
              "    .colab-df-convert:hover {\n",
              "      background-color: #E2EBFA;\n",
              "      box-shadow: 0px 1px 2px rgba(60, 64, 67, 0.3), 0px 1px 3px 1px rgba(60, 64, 67, 0.15);\n",
              "      fill: #174EA6;\n",
              "    }\n",
              "\n",
              "    [theme=dark] .colab-df-convert {\n",
              "      background-color: #3B4455;\n",
              "      fill: #D2E3FC;\n",
              "    }\n",
              "\n",
              "    [theme=dark] .colab-df-convert:hover {\n",
              "      background-color: #434B5C;\n",
              "      box-shadow: 0px 1px 3px 1px rgba(0, 0, 0, 0.15);\n",
              "      filter: drop-shadow(0px 1px 2px rgba(0, 0, 0, 0.3));\n",
              "      fill: #FFFFFF;\n",
              "    }\n",
              "  </style>\n",
              "\n",
              "      <script>\n",
              "        const buttonEl =\n",
              "          document.querySelector('#df-231ef936-e7d8-493a-8baf-4a0ebfb2dc0f button.colab-df-convert');\n",
              "        buttonEl.style.display =\n",
              "          google.colab.kernel.accessAllowed ? 'block' : 'none';\n",
              "\n",
              "        async function convertToInteractive(key) {\n",
              "          const element = document.querySelector('#df-231ef936-e7d8-493a-8baf-4a0ebfb2dc0f');\n",
              "          const dataTable =\n",
              "            await google.colab.kernel.invokeFunction('convertToInteractive',\n",
              "                                                     [key], {});\n",
              "          if (!dataTable) return;\n",
              "\n",
              "          const docLinkHtml = 'Like what you see? Visit the ' +\n",
              "            '<a target=\"_blank\" href=https://colab.research.google.com/notebooks/data_table.ipynb>data table notebook</a>'\n",
              "            + ' to learn more about interactive tables.';\n",
              "          element.innerHTML = '';\n",
              "          dataTable['output_type'] = 'display_data';\n",
              "          await google.colab.output.renderOutput(dataTable, element);\n",
              "          const docLink = document.createElement('div');\n",
              "          docLink.innerHTML = docLinkHtml;\n",
              "          element.appendChild(docLink);\n",
              "        }\n",
              "      </script>\n",
              "    </div>\n",
              "  </div>\n",
              "  "
            ]
          },
          "metadata": {},
          "execution_count": 2
        }
      ]
    },
    {
      "cell_type": "code",
      "source": [
        "x=d.iloc[:,1:4]\n",
        "y=d.iloc[:,2:3]\n",
        "y.head()"
      ],
      "metadata": {
        "colab": {
          "base_uri": "https://localhost:8080/",
          "height": 206
        },
        "id": "UJeayPhm30lI",
        "outputId": "bdcb398a-41ec-4baa-8191-e195c62cf980"
      },
      "execution_count": 45,
      "outputs": [
        {
          "output_type": "execute_result",
          "data": {
            "text/plain": [
              "   Orbit\n",
              "0      0\n",
              "1      0\n",
              "2      1\n",
              "3      2\n",
              "4      3"
            ],
            "text/html": [
              "\n",
              "  <div id=\"df-58b62e9f-656b-48b7-8929-1182edab8b0e\">\n",
              "    <div class=\"colab-df-container\">\n",
              "      <div>\n",
              "<style scoped>\n",
              "    .dataframe tbody tr th:only-of-type {\n",
              "        vertical-align: middle;\n",
              "    }\n",
              "\n",
              "    .dataframe tbody tr th {\n",
              "        vertical-align: top;\n",
              "    }\n",
              "\n",
              "    .dataframe thead th {\n",
              "        text-align: right;\n",
              "    }\n",
              "</style>\n",
              "<table border=\"1\" class=\"dataframe\">\n",
              "  <thead>\n",
              "    <tr style=\"text-align: right;\">\n",
              "      <th></th>\n",
              "      <th>Orbit</th>\n",
              "    </tr>\n",
              "  </thead>\n",
              "  <tbody>\n",
              "    <tr>\n",
              "      <th>0</th>\n",
              "      <td>0</td>\n",
              "    </tr>\n",
              "    <tr>\n",
              "      <th>1</th>\n",
              "      <td>0</td>\n",
              "    </tr>\n",
              "    <tr>\n",
              "      <th>2</th>\n",
              "      <td>1</td>\n",
              "    </tr>\n",
              "    <tr>\n",
              "      <th>3</th>\n",
              "      <td>2</td>\n",
              "    </tr>\n",
              "    <tr>\n",
              "      <th>4</th>\n",
              "      <td>3</td>\n",
              "    </tr>\n",
              "  </tbody>\n",
              "</table>\n",
              "</div>\n",
              "      <button class=\"colab-df-convert\" onclick=\"convertToInteractive('df-58b62e9f-656b-48b7-8929-1182edab8b0e')\"\n",
              "              title=\"Convert this dataframe to an interactive table.\"\n",
              "              style=\"display:none;\">\n",
              "        \n",
              "  <svg xmlns=\"http://www.w3.org/2000/svg\" height=\"24px\"viewBox=\"0 0 24 24\"\n",
              "       width=\"24px\">\n",
              "    <path d=\"M0 0h24v24H0V0z\" fill=\"none\"/>\n",
              "    <path d=\"M18.56 5.44l.94 2.06.94-2.06 2.06-.94-2.06-.94-.94-2.06-.94 2.06-2.06.94zm-11 1L8.5 8.5l.94-2.06 2.06-.94-2.06-.94L8.5 2.5l-.94 2.06-2.06.94zm10 10l.94 2.06.94-2.06 2.06-.94-2.06-.94-.94-2.06-.94 2.06-2.06.94z\"/><path d=\"M17.41 7.96l-1.37-1.37c-.4-.4-.92-.59-1.43-.59-.52 0-1.04.2-1.43.59L10.3 9.45l-7.72 7.72c-.78.78-.78 2.05 0 2.83L4 21.41c.39.39.9.59 1.41.59.51 0 1.02-.2 1.41-.59l7.78-7.78 2.81-2.81c.8-.78.8-2.07 0-2.86zM5.41 20L4 18.59l7.72-7.72 1.47 1.35L5.41 20z\"/>\n",
              "  </svg>\n",
              "      </button>\n",
              "      \n",
              "  <style>\n",
              "    .colab-df-container {\n",
              "      display:flex;\n",
              "      flex-wrap:wrap;\n",
              "      gap: 12px;\n",
              "    }\n",
              "\n",
              "    .colab-df-convert {\n",
              "      background-color: #E8F0FE;\n",
              "      border: none;\n",
              "      border-radius: 50%;\n",
              "      cursor: pointer;\n",
              "      display: none;\n",
              "      fill: #1967D2;\n",
              "      height: 32px;\n",
              "      padding: 0 0 0 0;\n",
              "      width: 32px;\n",
              "    }\n",
              "\n",
              "    .colab-df-convert:hover {\n",
              "      background-color: #E2EBFA;\n",
              "      box-shadow: 0px 1px 2px rgba(60, 64, 67, 0.3), 0px 1px 3px 1px rgba(60, 64, 67, 0.15);\n",
              "      fill: #174EA6;\n",
              "    }\n",
              "\n",
              "    [theme=dark] .colab-df-convert {\n",
              "      background-color: #3B4455;\n",
              "      fill: #D2E3FC;\n",
              "    }\n",
              "\n",
              "    [theme=dark] .colab-df-convert:hover {\n",
              "      background-color: #434B5C;\n",
              "      box-shadow: 0px 1px 3px 1px rgba(0, 0, 0, 0.15);\n",
              "      filter: drop-shadow(0px 1px 2px rgba(0, 0, 0, 0.3));\n",
              "      fill: #FFFFFF;\n",
              "    }\n",
              "  </style>\n",
              "\n",
              "      <script>\n",
              "        const buttonEl =\n",
              "          document.querySelector('#df-58b62e9f-656b-48b7-8929-1182edab8b0e button.colab-df-convert');\n",
              "        buttonEl.style.display =\n",
              "          google.colab.kernel.accessAllowed ? 'block' : 'none';\n",
              "\n",
              "        async function convertToInteractive(key) {\n",
              "          const element = document.querySelector('#df-58b62e9f-656b-48b7-8929-1182edab8b0e');\n",
              "          const dataTable =\n",
              "            await google.colab.kernel.invokeFunction('convertToInteractive',\n",
              "                                                     [key], {});\n",
              "          if (!dataTable) return;\n",
              "\n",
              "          const docLinkHtml = 'Like what you see? Visit the ' +\n",
              "            '<a target=\"_blank\" href=https://colab.research.google.com/notebooks/data_table.ipynb>data table notebook</a>'\n",
              "            + ' to learn more about interactive tables.';\n",
              "          element.innerHTML = '';\n",
              "          dataTable['output_type'] = 'display_data';\n",
              "          await google.colab.output.renderOutput(dataTable, element);\n",
              "          const docLink = document.createElement('div');\n",
              "          docLink.innerHTML = docLinkHtml;\n",
              "          element.appendChild(docLink);\n",
              "        }\n",
              "      </script>\n",
              "    </div>\n",
              "  </div>\n",
              "  "
            ]
          },
          "metadata": {},
          "execution_count": 45
        }
      ]
    },
    {
      "cell_type": "code",
      "source": [
        "from sklearn.model_selection import train_test_split\n",
        "x_train,x_test,y_train,y_test=train_test_split(x,y,test_size=0.2,random_state=15)"
      ],
      "metadata": {
        "id": "WBzPEvPJ4Ft8"
      },
      "execution_count": 46,
      "outputs": []
    },
    {
      "cell_type": "code",
      "source": [
        "print(x_train)"
      ],
      "metadata": {
        "colab": {
          "base_uri": "https://localhost:8080/"
        },
        "id": "H8dvrjPE4Hsw",
        "outputId": "e31229f3-083a-459d-fc45-40930f698ae2"
      },
      "execution_count": 47,
      "outputs": [
        {
          "output_type": "stream",
          "name": "stdout",
          "text": [
            "     PayloadMass  Orbit  LaunchSite\n",
            "86  15400.000000      8           3\n",
            "13   1898.000000      1           1\n",
            "16   2034.000000      0           1\n",
            "18   5271.000000      3           1\n",
            "30   6070.000000      3           3\n",
            "..           ...    ...         ...\n",
            "28   5300.000000      3           3\n",
            "0    6104.959412      0           1\n",
            "5    3325.000000      3           1\n",
            "12    570.000000      4           1\n",
            "72   6104.959412      9           3\n",
            "\n",
            "[72 rows x 3 columns]\n"
          ]
        }
      ]
    },
    {
      "cell_type": "code",
      "source": [
        "print(x_test)"
      ],
      "metadata": {
        "colab": {
          "base_uri": "https://localhost:8080/"
        },
        "id": "1n0v6jVm4qdP",
        "outputId": "dce5816d-fdc1-45c3-b5f7-5bf9c592647c"
      },
      "execution_count": 48,
      "outputs": [
        {
          "output_type": "stream",
          "name": "stdout",
          "text": [
            "     PayloadMass  Orbit  LaunchSite\n",
            "76  15600.000000      8           3\n",
            "46   9600.000000      2           2\n",
            "59   2573.000000      1           1\n",
            "57   3000.000000      3           3\n",
            "48    350.000000      6           1\n",
            "69   5000.000000      1           1\n",
            "8    4535.000000      3           1\n",
            "14   4707.000000      3           1\n",
            "9    4428.000000      3           1\n",
            "73  15600.000000      8           1\n",
            "25   9600.000000      2           2\n",
            "87  15400.000000      8           3\n",
            "38   9600.000000      2           2\n",
            "3     500.000000      2           2\n",
            "20   4696.000000      3           1\n",
            "45   6092.000000      3           1\n",
            "43   6104.959412      0           1\n",
            "52   7076.000000      3           1\n"
          ]
        }
      ]
    },
    {
      "cell_type": "code",
      "source": [
        "print(y_train)\n",
        "print(y_train.shape)"
      ],
      "metadata": {
        "colab": {
          "base_uri": "https://localhost:8080/"
        },
        "id": "NxRtzL-g4x8U",
        "outputId": "51b31530-a351-45cd-a5a1-eaf58871a279"
      },
      "execution_count": 49,
      "outputs": [
        {
          "output_type": "stream",
          "name": "stdout",
          "text": [
            "    Orbit\n",
            "86      8\n",
            "13      1\n",
            "16      0\n",
            "18      3\n",
            "30      3\n",
            "..    ...\n",
            "28      3\n",
            "0       0\n",
            "5       3\n",
            "12      4\n",
            "72      9\n",
            "\n",
            "[72 rows x 1 columns]\n",
            "(72, 1)\n"
          ]
        }
      ]
    },
    {
      "cell_type": "code",
      "source": [
        "print(y_test)"
      ],
      "metadata": {
        "colab": {
          "base_uri": "https://localhost:8080/"
        },
        "id": "VE6zmtjE42eq",
        "outputId": "a70b5bbf-5ab5-4472-b1f5-4b63ecc9c69f"
      },
      "execution_count": 50,
      "outputs": [
        {
          "output_type": "stream",
          "name": "stdout",
          "text": [
            "    Orbit\n",
            "76      8\n",
            "46      2\n",
            "59      1\n",
            "57      3\n",
            "48      6\n",
            "69      1\n",
            "8       3\n",
            "14      3\n",
            "9       3\n",
            "73      8\n",
            "25      2\n",
            "87      8\n",
            "38      2\n",
            "3       2\n",
            "20      3\n",
            "45      3\n",
            "43      0\n",
            "52      3\n"
          ]
        }
      ]
    },
    {
      "cell_type": "code",
      "source": [
        "from sklearn.tree import DecisionTreeRegressor\n"
      ],
      "metadata": {
        "id": "j0OTNAoB46Gj"
      },
      "execution_count": 51,
      "outputs": []
    },
    {
      "cell_type": "code",
      "source": [
        "dt=DecisionTreeRegressor()\n",
        "cc=dt.fit(x_train,y_train)\n",
        "from sklearn.metrics import mean_squared_error as MSE\n",
        "yp=dt.predict(x_test)\n",
        "mse_dt=MSE(y_test,yp)\n",
        "rms=mse_dt**(1/2)\n",
        "print(rms)"
      ],
      "metadata": {
        "colab": {
          "base_uri": "https://localhost:8080/"
        },
        "id": "_aB5-hCx46J6",
        "outputId": "e0b6e8e1-a248-4b8e-9631-b965b6cc8d2c"
      },
      "execution_count": 52,
      "outputs": [
        {
          "output_type": "stream",
          "name": "stdout",
          "text": [
            "0.23570226039551584\n"
          ]
        }
      ]
    },
    {
      "cell_type": "code",
      "source": [
        "  from sklearn import tree\n",
        "  tree.plot_tree(cc)"
      ],
      "metadata": {
        "colab": {
          "base_uri": "https://localhost:8080/",
          "height": 578
        },
        "id": "YTgBw3rjUpG1",
        "outputId": "5ab19b5a-5f45-44b3-ac1b-a4fc40bb8760"
      },
      "execution_count": 53,
      "outputs": [
        {
          "output_type": "execute_result",
          "data": {
            "text/plain": [
              "[Text(0.47058823529411764, 0.9, 'X[1] <= 4.5\\nsquared_error = 7.66\\nsamples = 72\\nvalue = 3.417'),\n",
              " Text(0.23529411764705882, 0.7, 'X[1] <= 1.5\\nsquared_error = 1.283\\nsamples = 51\\nvalue = 1.824'),\n",
              " Text(0.11764705882352941, 0.5, 'X[1] <= 0.5\\nsquared_error = 0.182\\nsamples = 25\\nvalue = 0.76'),\n",
              " Text(0.058823529411764705, 0.3, 'squared_error = 0.0\\nsamples = 6\\nvalue = 0.0'),\n",
              " Text(0.17647058823529413, 0.3, 'squared_error = 0.0\\nsamples = 19\\nvalue = 1.0'),\n",
              " Text(0.35294117647058826, 0.5, 'X[1] <= 2.5\\nsquared_error = 0.207\\nsamples = 26\\nvalue = 2.846'),\n",
              " Text(0.29411764705882354, 0.3, 'squared_error = 0.0\\nsamples = 5\\nvalue = 2.0'),\n",
              " Text(0.4117647058823529, 0.3, 'X[1] <= 3.5\\nsquared_error = 0.045\\nsamples = 21\\nvalue = 3.048'),\n",
              " Text(0.35294117647058826, 0.1, 'squared_error = 0.0\\nsamples = 20\\nvalue = 3.0'),\n",
              " Text(0.47058823529411764, 0.1, 'squared_error = 0.0\\nsamples = 1\\nvalue = 4.0'),\n",
              " Text(0.7058823529411765, 0.7, 'X[1] <= 6.0\\nsquared_error = 2.014\\nsamples = 21\\nvalue = 7.286'),\n",
              " Text(0.6470588235294118, 0.5, 'squared_error = 0.0\\nsamples = 5\\nvalue = 5.0'),\n",
              " Text(0.7647058823529411, 0.5, 'X[1] <= 8.5\\nsquared_error = 0.5\\nsamples = 16\\nvalue = 8.0'),\n",
              " Text(0.6470588235294118, 0.3, 'X[1] <= 7.5\\nsquared_error = 0.168\\nsamples = 14\\nvalue = 7.786'),\n",
              " Text(0.5882352941176471, 0.1, 'squared_error = 0.0\\nsamples = 3\\nvalue = 7.0'),\n",
              " Text(0.7058823529411765, 0.1, 'squared_error = 0.0\\nsamples = 11\\nvalue = 8.0'),\n",
              " Text(0.8823529411764706, 0.3, 'X[2] <= 2.0\\nsquared_error = 0.25\\nsamples = 2\\nvalue = 9.5'),\n",
              " Text(0.8235294117647058, 0.1, 'squared_error = 0.0\\nsamples = 1\\nvalue = 10.0'),\n",
              " Text(0.9411764705882353, 0.1, 'squared_error = 0.0\\nsamples = 1\\nvalue = 9.0')]"
            ]
          },
          "metadata": {},
          "execution_count": 53
        },
        {
          "output_type": "display_data",
          "data": {
            "text/plain": [
              "<Figure size 432x288 with 1 Axes>"
            ],
            "image/png": "[encoded data removed]"
          },
          "metadata": {
            "needs_background": "light"
          }
        }
      ]
    },
    {
      "cell_type": "code",
      "source": [
        "from sklearn.svm import SVR\n"
      ],
      "metadata": {
        "id": "d5hN3i5x5dMy"
      },
      "execution_count": 54,
      "outputs": []
    },
    {
      "cell_type": "code",
      "source": [
        "svm_regression=SVR()\n",
        "svm_regression.fit(x_train,y_train)"
      ],
      "metadata": {
        "colab": {
          "base_uri": "https://localhost:8080/"
        },
        "id": "br0coaM5FTRm",
        "outputId": "3623a42d-15eb-49f2-f2f7-08bf928c4f3e"
      },
      "execution_count": 55,
      "outputs": [
        {
          "output_type": "stream",
          "name": "stderr",
          "text": [
            "/usr/local/lib/python3.7/dist-packages/sklearn/utils/validation.py:993: DataConversionWarning: A column-vector y was passed when a 1d array was expected. Please change the shape of y to (n_samples, ), for example using ravel().\n",
            "  y = column_or_1d(y, warn=True)\n"
          ]
        },
        {
          "output_type": "execute_result",
          "data": {
            "text/plain": [
              "SVR()"
            ]
          },
          "metadata": {},
          "execution_count": 55
        }
      ]
    },
    {
      "cell_type": "code",
      "source": [
        "yfit=svm_regression.predict(x)\n"
      ],
      "metadata": {
        "id": "KykAUZlUZmT6"
      },
      "execution_count": 56,
      "outputs": []
    },
    {
      "cell_type": "code",
      "source": [
        "score=svm_regression.score(x,y)\n",
        "svm_mean=MSE(y,yfit)\n",
        "print(svm_mean)"
      ],
      "metadata": {
        "colab": {
          "base_uri": "https://localhost:8080/"
        },
        "id": "imSCce_qZ8ub",
        "outputId": "2a186e28-65f7-4c8a-e627-99e3cde438bd"
      },
      "execution_count": 57,
      "outputs": [
        {
          "output_type": "stream",
          "name": "stdout",
          "text": [
            "3.761269142061393\n"
          ]
        }
      ]
    },
    {
      "cell_type": "code",
      "source": [
        "print('The MSE using DECISION TREE:',rms)\n",
        "print('The MSE using SVM:',svm_mean)\n"
      ],
      "metadata": {
        "colab": {
          "base_uri": "https://localhost:8080/"
        },
        "id": "aAc9P1uE3y0d",
        "outputId": "953d61c5-a747-4d71-90cd-f52937b26e89"
      },
      "execution_count": 58,
      "outputs": [
        {
          "output_type": "stream",
          "name": "stdout",
          "text": [
            "The MSE using DECISION TREE: 0.23570226039551584\n",
            "The MSE using SVM: 3.761269142061393\n"
          ]
        }
      ]
    }
  ]
}